{
  "cells": [
    {
      "cell_type": "code",
      "execution_count": null,
      "metadata": {
        "id": "D2hbCU3K0C8c"
      },
      "outputs": [],
      "source": [
        "!pip install -q opencv-python"
      ]
    },
    {
      "cell_type": "code",
      "execution_count": null,
      "metadata": {
        "id": "3xI1ujto0Sy-",
        "collapsed": true
      },
      "outputs": [],
      "source": [
        "import shutil\n",
        "shutil.rmtree(\"/content/dataset\")"
      ]
    },
    {
      "cell_type": "code",
      "execution_count": null,
      "metadata": {
        "id": "I39zTA5uGaGd",
        "colab": {
          "base_uri": "https://localhost:8080/"
        },
        "collapsed": true,
        "outputId": "ceea114d-c361-47d2-ddbb-ae9679e35c9f"
      },
      "outputs": [
        {
          "output_type": "stream",
          "name": "stdout",
          "text": [
            "Requirement already satisfied: kaggle in /usr/local/lib/python3.10/dist-packages (1.6.12)\n",
            "Requirement already satisfied: six>=1.10 in /usr/local/lib/python3.10/dist-packages (from kaggle) (1.16.0)\n",
            "Requirement already satisfied: certifi>=2023.7.22 in /usr/local/lib/python3.10/dist-packages (from kaggle) (2024.2.2)\n",
            "Requirement already satisfied: python-dateutil in /usr/local/lib/python3.10/dist-packages (from kaggle) (2.8.2)\n",
            "Requirement already satisfied: requests in /usr/local/lib/python3.10/dist-packages (from kaggle) (2.31.0)\n",
            "Requirement already satisfied: tqdm in /usr/local/lib/python3.10/dist-packages (from kaggle) (4.66.4)\n",
            "Requirement already satisfied: python-slugify in /usr/local/lib/python3.10/dist-packages (from kaggle) (8.0.4)\n",
            "Requirement already satisfied: urllib3 in /usr/local/lib/python3.10/dist-packages (from kaggle) (2.0.7)\n",
            "Requirement already satisfied: bleach in /usr/local/lib/python3.10/dist-packages (from kaggle) (6.1.0)\n",
            "Requirement already satisfied: webencodings in /usr/local/lib/python3.10/dist-packages (from bleach->kaggle) (0.5.1)\n",
            "Requirement already satisfied: text-unidecode>=1.3 in /usr/local/lib/python3.10/dist-packages (from python-slugify->kaggle) (1.3)\n",
            "Requirement already satisfied: charset-normalizer<4,>=2 in /usr/local/lib/python3.10/dist-packages (from requests->kaggle) (3.3.2)\n",
            "Requirement already satisfied: idna<4,>=2.5 in /usr/local/lib/python3.10/dist-packages (from requests->kaggle) (3.7)\n"
          ]
        }
      ],
      "source": [
        "!pip install kaggle\n"
      ]
    },
    {
      "cell_type": "code",
      "execution_count": null,
      "metadata": {
        "colab": {
          "base_uri": "https://localhost:8080/"
        },
        "id": "w6Ooyvm-GbN7",
        "outputId": "ef9190b3-6015-48b0-a31b-aad45aecc943",
        "collapsed": true
      },
      "outputs": [
        {
          "output_type": "stream",
          "name": "stdout",
          "text": [
            "Dataset URL: https://www.kaggle.com/datasets/hasyimabdillah/workoutfitness-video\n",
            "License(s): CC-BY-NC-SA-4.0\n",
            "Downloading workoutfitness-video.zip to /content\n",
            "100% 4.31G/4.32G [01:04<00:00, 121MB/s] \n",
            "100% 4.32G/4.32G [01:04<00:00, 72.0MB/s]\n"
          ]
        }
      ],
      "source": [
        "!kaggle datasets download -d hasyimabdillah/workoutfitness-video"
      ]
    },
    {
      "cell_type": "code",
      "execution_count": null,
      "metadata": {
        "id": "jPHYU10oHtxX"
      },
      "outputs": [],
      "source": [
        "import zipfile\n",
        "import os\n",
        "\n",
        "# Path to the ZIP archive\n",
        "zip_file_path = \"/content/workoutfitness-video.zip\"\n",
        "\n",
        "# List of folders to extract\n",
        "folders_to_extract = ['pull Up/']\n",
        "\n",
        "# Directory to extract the folders into\n",
        "extraction_directory = \"/content/\"\n",
        "\n",
        "# Extract specified folders\n",
        "with zipfile.ZipFile(zip_file_path, 'r') as zip_ref:\n",
        "    for folder in folders_to_extract:\n",
        "        zip_ref.extractall(extraction_directory, members=[f for f in zip_ref.filelist if f.filename.startswith(folder)])\n"
      ]
    },
    {
      "cell_type": "code",
      "execution_count": null,
      "metadata": {
        "id": "aMjVIP1kn-8f"
      },
      "outputs": [],
      "source": [
        "import os\n",
        "\n",
        "# Specify the path of the folder containing the files\n",
        "folder_path = '/content/pull Up'\n",
        "\n",
        "# Iterate through the range of indices from 1 to 10\n",
        "for i in range(7, 27):\n",
        "    # Construct the file path for each file\n",
        "    file_path = os.path.join(folder_path, f\"pull up_{i}.mp4\")\n",
        "\n",
        "    # Check if the file exists before attempting to remove it\n",
        "    if os.path.exists(file_path):\n",
        "        # Remove the file\n",
        "        os.remove(file_path)\n",
        "    else:\n",
        "        print(f\"File '{file_path}' does not exist.\")"
      ]
    },
    {
      "cell_type": "code",
      "execution_count": null,
      "metadata": {
        "id": "ENdvJ7Jd0Unj"
      },
      "outputs": [],
      "source": [
        "import csv\n",
        "import cv2\n",
        "import itertools\n",
        "import numpy as np\n",
        "import pandas as pd\n",
        "import os\n",
        "import sys\n",
        "import tempfile\n",
        "import tqdm\n",
        "\n",
        "from matplotlib import pyplot as plt\n",
        "from matplotlib.collections import LineCollection\n",
        "\n",
        "import tensorflow as tf\n",
        "import tensorflow_hub as hub\n",
        "from tensorflow import keras\n",
        "\n",
        "from sklearn.model_selection import train_test_split\n",
        "from sklearn.metrics import accuracy_score, classification_report, confusion_matrix"
      ]
    },
    {
      "cell_type": "code",
      "execution_count": null,
      "metadata": {
        "id": "ZTfeGnNLLq45",
        "colab": {
          "base_uri": "https://localhost:8080/"
        },
        "outputId": "14408aa6-5409-419b-e3b1-cc35750d0108"
      },
      "outputs": [
        {
          "output_type": "stream",
          "name": "stdout",
          "text": [
            "Total images extracted: 150\n"
          ]
        }
      ],
      "source": [
        "# import os\n",
        "# import cv2\n",
        "\n",
        "# def video_to_images(video_path, output_folder, frame_rate=2):\n",
        "#     \"\"\"\n",
        "#     Convert a video file into a sequence of images.\n",
        "#     Args:\n",
        "#     - video_path (str): Path to the input video file.\n",
        "#     - output_folder (str): Path to the output folder where images will be saved.\n",
        "#     - frame_rate (int): Rate of frames to be extracted per second (default is 2).\n",
        "#     Returns:\n",
        "#     - int: Number of images extracted.\n",
        "#     \"\"\"\n",
        "#     # Create output folder if it doesn't exist\n",
        "#     if not os.path.exists(output_folder):\n",
        "#         os.makedirs(output_folder)\n",
        "\n",
        "#     # Open the video file\n",
        "#     video_capture = cv2.VideoCapture(video_path)\n",
        "\n",
        "#     # Get total number of frames in the video\n",
        "#     total_frames = int(video_capture.get(cv2.CAP_PROP_FRAME_COUNT))\n",
        "\n",
        "#     # Set the frame rate\n",
        "#     frame_rate_to_use = frame_rate  # The desired frame rate to use\n",
        "#     frame_interval = int(video_capture.get(cv2.CAP_PROP_FPS)) // frame_rate_to_use\n",
        "\n",
        "#     # Read and save frames\n",
        "#     current_frame = 0\n",
        "#     images_extracted = 0  # Counter for the number of images extracted\n",
        "#     while True:\n",
        "#         # Read the next frame\n",
        "#         ret, frame = video_capture.read()\n",
        "\n",
        "#         if not ret:\n",
        "#             break\n",
        "\n",
        "#         # Save frame only if it satisfies the frame_interval condition\n",
        "#         if current_frame % frame_interval == 0:\n",
        "#             image_filename = os.path.splitext(os.path.basename(video_path))[0] + f\"_frame_{current_frame}.jpg\"\n",
        "#             image_path = os.path.join(output_folder, image_filename)\n",
        "#             cv2.imwrite(image_path, frame)\n",
        "#             images_extracted += 1\n",
        "\n",
        "#         current_frame += 1\n",
        "\n",
        "#     # Release the video capture object\n",
        "#     video_capture.release()\n",
        "\n",
        "#     return images_extracted  # Return the count of images extracted\n",
        "\n",
        "# # Function to process multiple videos in a folder\n",
        "# def process_videos_in_folder(folder_path, output_folder, frame_rate=2):\n",
        "#     \"\"\"\n",
        "#     Process all videos in a folder and convert them into sequences of images.\n",
        "#     Args:\n",
        "#     - folder_path (str): Path to the folder containing input video files.\n",
        "#     - output_folder (str): Path to the output folder where images will be saved.\n",
        "#     - frame_rate (int): Rate of frames to be extracted per second (default is 2).\n",
        "#     Returns:\n",
        "#     - None\n",
        "#     \"\"\"\n",
        "#     # Create output folder if it doesn't exist\n",
        "#     if not os.path.exists(output_folder):\n",
        "#         os.makedirs(output_folder)\n",
        "\n",
        "#     total_images_extracted = 0  # Counter for the total number of images extracted\n",
        "\n",
        "#     # Iterate over all files in the input folder\n",
        "#     for filename in os.listdir(folder_path):\n",
        "#         if filename.endswith((\".avi\", \".mp4\", \".MOV\")):  # Add more video formats if needed\n",
        "#             video_path = os.path.join(folder_path, filename)\n",
        "#             images_extracted = video_to_images(video_path, output_folder, frame_rate)\n",
        "#             total_images_extracted += images_extracted\n",
        "\n",
        "#     print(\"Total images extracted:\", total_images_extracted)\n",
        "\n",
        "# # Example usage:\n",
        "# videos_folder = \"/content/push-up\"  # Replace with the path to your videos folder\n",
        "# output_folder = \"/content/data/False\"  # Output folder for images\n",
        "# frame_rate = 5  # Extract one frame per second\n",
        "\n",
        "# # Process all videos in the folder\n",
        "# process_videos_in_folder(videos_folder, output_folder, frame_rate)\n",
        "\n",
        "\n",
        "\n"
      ]
    },
    {
      "cell_type": "code",
      "source": [
        "import os\n",
        "import cv2\n",
        "\n",
        "def video_to_images(video_path, output_folder, frame_rate=2):\n",
        "    \"\"\"\n",
        "    Convert a video file into a sequence of images.\n",
        "    Args:\n",
        "    - video_path (str): Path to the input video file.\n",
        "    - output_folder (str): Path to the output folder where images will be saved.\n",
        "    - frame_rate (int): Rate of frames to be extracted per second (default is 2).\n",
        "    Returns:\n",
        "    - int: Number of images extracted.\n",
        "    \"\"\"\n",
        "    # Create output folder if it doesn't exist\n",
        "    if not os.path.exists(output_folder):\n",
        "        os.makedirs(output_folder)\n",
        "\n",
        "    # Get video name without extension\n",
        "    video_name = os.path.splitext(os.path.basename(video_path))[0]\n",
        "\n",
        "    # Open the video file\n",
        "    video_capture = cv2.VideoCapture(video_path)\n",
        "\n",
        "    # Get total number of frames in the video\n",
        "    total_frames = int(video_capture.get(cv2.CAP_PROP_FRAME_COUNT))\n",
        "\n",
        "    # Set the frame rate\n",
        "    frame_rate_to_use = frame_rate  # The desired frame rate to use\n",
        "    frame_interval = int(video_capture.get(cv2.CAP_PROP_FPS)) // frame_rate_to_use\n",
        "\n",
        "    # Read and save frames\n",
        "    current_frame = 0\n",
        "    images_extracted = 0  # Counter for the number of images extracted\n",
        "    while True:\n",
        "        # Read the next frame\n",
        "        ret, frame = video_capture.read()\n",
        "\n",
        "        if not ret:\n",
        "            break\n",
        "\n",
        "        # Save frame only if it satisfies the frame_interval condition\n",
        "        if current_frame % frame_interval == 0:\n",
        "            frame_filename = f\"{video_name}_frame_{current_frame:04d}.jpg\"  # Padding frame number with zeros\n",
        "            image_path = os.path.join(output_folder, frame_filename)\n",
        "            cv2.imwrite(image_path, frame)\n",
        "            images_extracted += 1\n",
        "\n",
        "        current_frame += 1\n",
        "\n",
        "    # Release the video capture object\n",
        "    video_capture.release()\n",
        "\n",
        "    return images_extracted  # Return the count of images extracted\n",
        "\n",
        "# Function to process multiple videos in a folder\n",
        "def process_videos_in_folder(folder_path, output_folder, frame_rate=2):\n",
        "    \"\"\"\n",
        "    Process all videos in a folder and convert them into sequences of images.\n",
        "    Args:\n",
        "    - folder_path (str): Path to the folder containing input video files.\n",
        "    - output_folder (str): Path to the output folder where images will be saved.\n",
        "    - frame_rate (int): Rate of frames to be extracted per second (default is 2).\n",
        "    Returns:\n",
        "    - None\n",
        "    \"\"\"\n",
        "    # Create output folder if it doesn't exist\n",
        "    if not os.path.exists(output_folder):\n",
        "        os.makedirs(output_folder)\n",
        "\n",
        "    total_images_extracted = 0  # Counter for the total number of images extracted\n",
        "\n",
        "    # Iterate over all files in the input folder\n",
        "    for filename in sorted(os.listdir(folder_path)):\n",
        "        if filename.endswith((\".avi\", \".mp4\", \".MOV\")):  # Add more video formats if needed\n",
        "            video_path = os.path.join(folder_path, filename)\n",
        "            images_extracted = video_to_images(video_path, output_folder, frame_rate)\n",
        "            total_images_extracted += images_extracted\n",
        "\n",
        "    print(\"Total images extracted:\", total_images_extracted)\n",
        "\n",
        "# Example usage:\n",
        "videos_folder =  \"/content/False\"  # Replace with the path to your videos folder\n",
        "output_folder = \"/content/dataset/Incorrect\"  # Output folder for images\n",
        "frame_rate = 5  # Extract one frame per second\n",
        "\n",
        "# Process all videos in the folder\n",
        "process_videos_in_folder(videos_folder, output_folder, frame_rate)\n",
        "\n"
      ],
      "metadata": {
        "colab": {
          "base_uri": "https://localhost:8080/"
        },
        "id": "Zx1FCmJvfWZf",
        "outputId": "72e1cbb1-794c-479e-a77c-2af2025110e5"
      },
      "execution_count": null,
      "outputs": [
        {
          "output_type": "stream",
          "name": "stdout",
          "text": [
            "Total images extracted: 88\n"
          ]
        }
      ]
    },
    {
      "cell_type": "code",
      "execution_count": null,
      "metadata": {
        "colab": {
          "base_uri": "https://localhost:8080/"
        },
        "id": "m4FRfBWY0fRd",
        "outputId": "24026ed2-bf85-47b5-f582-5f3bde3e80c2",
        "collapsed": true
      },
      "outputs": [
        {
          "output_type": "stream",
          "name": "stdout",
          "text": [
            "Cloning into 'examples'...\n",
            "remote: Enumerating objects: 23745, done.\u001b[K\n",
            "remote: Total 23745 (delta 0), reused 0 (delta 0), pack-reused 23745\u001b[K\n",
            "Receiving objects: 100% (23745/23745), 44.08 MiB | 28.82 MiB/s, done.\n",
            "Resolving deltas: 100% (12948/12948), done.\n"
          ]
        }
      ],
      "source": [
        "# Download model from TF Hub and check out inference code from GitHub\n",
        "!wget -q -O movenet_thunder.tflite https://tfhub.dev/google/lite-model/movenet/singlepose/thunder/tflite/float16/4?lite-format=tflite\n",
        "!git clone https://github.com/tensorflow/examples.git\n",
        "pose_sample_rpi_path = os.path.join(os.getcwd(), 'examples/lite/examples/pose_estimation/raspberry_pi')\n",
        "sys.path.append(pose_sample_rpi_path)\n",
        "\n",
        "# Load MoveNet Thunder model\n",
        "import utils\n",
        "from data import BodyPart\n",
        "from ml import Movenet\n",
        "movenet = Movenet('movenet_thunder')\n",
        "\n",
        "# Define function to run pose estimation using MoveNet Thunder.\n",
        "# You'll apply MoveNet's cropping algorithm and run inference multiple times on\n",
        "# the input image to improve pose estimation accuracy.\n",
        "def detect(input_tensor, inference_count=3):\n",
        "  \"\"\"Runs detection on an input image.\n",
        "\n",
        "  Args:\n",
        "    input_tensor: A [height, width, 3] Tensor of type tf.float32.\n",
        "      Note that height and width can be anything since the image will be\n",
        "      immediately resized according to the needs of the model within this\n",
        "      function.\n",
        "    inference_count: Number of times the model should run repeatly on the\n",
        "      same input image to improve detection accuracy.\n",
        "\n",
        "  Returns:\n",
        "    A Person entity detected by the MoveNet.SinglePose.\n",
        "  \"\"\"\n",
        "  image_height, image_width, channel = input_tensor.shape\n",
        "\n",
        "  # Detect pose using the full input image\n",
        "  movenet.detect(input_tensor.numpy(), reset_crop_region=True)\n",
        "\n",
        "  # Repeatedly using previous detection result to identify the region of\n",
        "  # interest and only croping that region to improve detection accuracy\n",
        "  for _ in range(inference_count - 1):\n",
        "    person = movenet.detect(input_tensor.numpy(),\n",
        "                            reset_crop_region=False)\n",
        "\n",
        "  return person"
      ]
    },
    {
      "cell_type": "code",
      "execution_count": null,
      "metadata": {
        "id": "Xj8K4txG0ih0"
      },
      "outputs": [],
      "source": [
        "def draw_prediction_on_image(\n",
        "    image, person, crop_region=None, close_figure=True,\n",
        "    keep_input_size=False):\n",
        "  \"\"\"Draws the keypoint predictions on image.\n",
        "\n",
        "  Args:\n",
        "    image: An numpy array with shape [height, width, channel] representing the\n",
        "      pixel values of the input image.\n",
        "    person: A person entity returned from the MoveNet.SinglePose model.\n",
        "    close_figure: Whether to close the plt figure after the function returns.\n",
        "    keep_input_size: Whether to keep the size of the input image.\n",
        "\n",
        "  Returns:\n",
        "    An numpy array with shape [out_height, out_width, channel] representing the\n",
        "    image overlaid with keypoint predictions.\n",
        "  \"\"\"\n",
        "  # Draw the detection result on top of the image.\n",
        "  image_np = utils.visualize(image, [person])\n",
        "\n",
        "  # Plot the image with detection results.\n",
        "  height, width, channel = image.shape\n",
        "  aspect_ratio = float(width) / height\n",
        "  fig, ax = plt.subplots(figsize=(12 * aspect_ratio, 12))\n",
        "  im = ax.imshow(image_np)\n",
        "\n",
        "  if close_figure:\n",
        "    plt.close(fig)\n",
        "\n",
        "  if not keep_input_size:\n",
        "    image_np = utils.keep_aspect_ratio_resizer(image_np, (512, 512))\n",
        "\n",
        "  return image_np"
      ]
    },
    {
      "cell_type": "code",
      "execution_count": null,
      "metadata": {
        "id": "WxFVC17L0tfx"
      },
      "outputs": [],
      "source": [
        "class MoveNetPreprocessor(object):\n",
        "  \"\"\"Helper class to preprocess pose sample images for classification.\"\"\"\n",
        "\n",
        "  def __init__(self,\n",
        "               images_in_folder,\n",
        "               images_out_folder,\n",
        "               csvs_out_path):\n",
        "    \"\"\"Creates a preprocessor to detection pose from images and save as CSV.\n",
        "\n",
        "    Args:\n",
        "      images_in_folder: Path to the folder with the input images. It should\n",
        "        follow this structure:\n",
        "        yoga_poses\n",
        "        |__ downdog\n",
        "            |______ 00000128.jpg\n",
        "            |______ 00000181.bmp\n",
        "            |______ ...\n",
        "        |__ goddess\n",
        "            |______ 00000243.jpg\n",
        "            |______ 00000306.jpg\n",
        "            |______ ...\n",
        "        ...\n",
        "      images_out_folder: Path to write the images overlay with detected\n",
        "        landmarks. These images are useful when you need to debug accuracy\n",
        "        issues.\n",
        "      csvs_out_path: Path to write the CSV containing the detected landmark\n",
        "        coordinates and label of each image that can be used to train a pose\n",
        "        classification model.\n",
        "    \"\"\"\n",
        "    self._images_in_folder = images_in_folder\n",
        "    self._images_out_folder = images_out_folder\n",
        "    self._csvs_out_path = csvs_out_path\n",
        "    self._messages = []\n",
        "\n",
        "    # Create a temp dir to store the pose CSVs per class\n",
        "    self._csvs_out_folder_per_class = tempfile.mkdtemp()\n",
        "\n",
        "    # Get list of pose classes and print image statistics\n",
        "    self._pose_class_names = sorted(\n",
        "        [n for n in os.listdir(self._images_in_folder) if not n.startswith('.')]\n",
        "        )\n",
        "\n",
        "  def process(self, per_pose_class_limit=None, detection_threshold=0.1):\n",
        "    \"\"\"Preprocesses images in the given folder.\n",
        "    Args:\n",
        "      per_pose_class_limit: Number of images to load. As preprocessing usually\n",
        "        takes time, this parameter can be specified to make the reduce of the\n",
        "        dataset for testing.\n",
        "      detection_threshold: Only keep images with all landmark confidence score\n",
        "        above this threshold.\n",
        "    \"\"\"\n",
        "    # Loop through the classes and preprocess its images\n",
        "    for pose_class_name in self._pose_class_names:\n",
        "      print('Preprocessing', pose_class_name, file=sys.stderr)\n",
        "\n",
        "      # Paths for the pose class.\n",
        "      images_in_folder = os.path.join(self._images_in_folder, pose_class_name)\n",
        "      images_out_folder = os.path.join(self._images_out_folder, pose_class_name)\n",
        "      csv_out_path = os.path.join(self._csvs_out_folder_per_class,\n",
        "                                  pose_class_name + '.csv')\n",
        "      if not os.path.exists(images_out_folder):\n",
        "        os.makedirs(images_out_folder)\n",
        "\n",
        "      # Detect landmarks in each image and write it to a CSV file\n",
        "      with open(csv_out_path, 'w') as csv_out_file:\n",
        "        csv_out_writer = csv.writer(csv_out_file,\n",
        "                                    delimiter=',',\n",
        "                                    quoting=csv.QUOTE_MINIMAL)\n",
        "        # Get list of images\n",
        "        image_names = sorted(\n",
        "            [n for n in os.listdir(images_in_folder) if not n.startswith('.')])\n",
        "        if per_pose_class_limit is not None:\n",
        "          image_names = image_names[:per_pose_class_limit]\n",
        "\n",
        "        valid_image_count = 0\n",
        "\n",
        "        # Detect pose landmarks from each image\n",
        "        for image_name in tqdm.tqdm(image_names):\n",
        "          image_path = os.path.join(images_in_folder, image_name)\n",
        "\n",
        "          try:\n",
        "            image = tf.io.read_file(image_path)\n",
        "            image = tf.io.decode_jpeg(image)\n",
        "          except:\n",
        "            self._messages.append('Skipped ' + image_path + '. Invalid image.')\n",
        "            continue\n",
        "          else:\n",
        "            image = tf.io.read_file(image_path)\n",
        "            image = tf.io.decode_jpeg(image)\n",
        "            image_height, image_width, channel = image.shape\n",
        "\n",
        "          # Skip images that isn't RGB because Movenet requires RGB images\n",
        "          if channel != 3:\n",
        "            self._messages.append('Skipped ' + image_path +\n",
        "                                  '. Image isn\\'t in RGB format.')\n",
        "            continue\n",
        "          person = detect(image)\n",
        "\n",
        "          # Save landmarks if all landmarks were detected\n",
        "          min_landmark_score = min(\n",
        "              [keypoint.score for keypoint in person.keypoints])\n",
        "          should_keep_image = min_landmark_score >= detection_threshold\n",
        "          if not should_keep_image:\n",
        "            self._messages.append('Skipped ' + image_path +\n",
        "                                  '. No pose was confidentlly detected.')\n",
        "            continue\n",
        "\n",
        "          valid_image_count += 1\n",
        "\n",
        "          # Draw the prediction result on top of the image for debugging later\n",
        "          output_overlay = draw_prediction_on_image(\n",
        "              image.numpy().astype(np.uint8), person,\n",
        "              close_figure=True, keep_input_size=True)\n",
        "\n",
        "          # Write detection result into an image file\n",
        "          output_frame = cv2.cvtColor(output_overlay, cv2.COLOR_RGB2BGR)\n",
        "          cv2.imwrite(os.path.join(images_out_folder, image_name), output_frame)\n",
        "\n",
        "          # Get landmarks and scale it to the same size as the input image\n",
        "          pose_landmarks = np.array(\n",
        "              [[keypoint.coordinate.x, keypoint.coordinate.y, keypoint.score]\n",
        "                for keypoint in person.keypoints],\n",
        "              dtype=np.float32)\n",
        "\n",
        "          # Write the landmark coordinates to its per-class CSV file\n",
        "          coordinates = pose_landmarks.flatten().astype(str).tolist()\n",
        "          csv_out_writer.writerow([image_name] + coordinates)\n",
        "\n",
        "        if not valid_image_count:\n",
        "          raise RuntimeError(\n",
        "              'No valid images found for the \"{}\" class.'\n",
        "              .format(pose_class_name))\n",
        "\n",
        "    # Print the error message collected during preprocessing.\n",
        "    print('\\n'.join(self._messages))\n",
        "\n",
        "    # Combine all per-class CSVs into a single output file\n",
        "    all_landmarks_df = self._all_landmarks_as_dataframe()\n",
        "    all_landmarks_df.to_csv(self._csvs_out_path, index=False)\n",
        "\n",
        "  def class_names(self):\n",
        "    \"\"\"List of classes found in the training dataset.\"\"\"\n",
        "    return self._pose_class_names\n",
        "\n",
        "  def _all_landmarks_as_dataframe(self):\n",
        "    \"\"\"Merge all per-class CSVs into a single dataframe.\"\"\"\n",
        "    total_df = None\n",
        "    for class_index, class_name in enumerate(self._pose_class_names):\n",
        "      csv_out_path = os.path.join(self._csvs_out_folder_per_class,\n",
        "                                  class_name + '.csv')\n",
        "      per_class_df = pd.read_csv(csv_out_path, header=None)\n",
        "\n",
        "      # Add the labels\n",
        "      per_class_df['class_no'] = [class_index]*len(per_class_df)\n",
        "      per_class_df['class_name'] = [class_name]*len(per_class_df)\n",
        "\n",
        "      # Append the folder name to the filename column (first column)\n",
        "      per_class_df[per_class_df.columns[0]] = (os.path.join(class_name, '')\n",
        "        + per_class_df[per_class_df.columns[0]].astype(str))\n",
        "\n",
        "      if total_df is None:\n",
        "        # For the first class, assign its data to the total dataframe\n",
        "        total_df = per_class_df\n",
        "      else:\n",
        "        # Concatenate each class's data into the total dataframe\n",
        "        total_df = pd.concat([total_df, per_class_df], axis=0)\n",
        "\n",
        "    list_name = [[bodypart.name + '_x', bodypart.name + '_y',\n",
        "                  bodypart.name + '_score'] for bodypart in BodyPart]\n",
        "    header_name = []\n",
        "    for columns_name in list_name:\n",
        "      header_name += columns_name\n",
        "    header_name = ['file_name'] + header_name\n",
        "    header_map = {total_df.columns[i]: header_name[i]\n",
        "                  for i in range(len(header_name))}\n",
        "\n",
        "    total_df.rename(header_map, axis=1, inplace=True)\n",
        "\n",
        "    return total_df"
      ]
    },
    {
      "cell_type": "code",
      "execution_count": null,
      "metadata": {
        "id": "Wsre7K450vMm"
      },
      "outputs": [],
      "source": [
        "is_skip_step_1 = False\n",
        "use_custom_dataset = True\n",
        "\n",
        "dataset_is_split = False"
      ]
    },
    {
      "cell_type": "code",
      "execution_count": null,
      "metadata": {
        "id": "NCgCoD6H0x6y"
      },
      "outputs": [],
      "source": [
        "import os\n",
        "import random\n",
        "import shutil\n",
        "\n",
        "def split_into_train_test(images_origin, images_dest, test_split):\n",
        "  \"\"\"Splits a directory of sorted images into training and test sets.\n",
        "\n",
        "  Args:\n",
        "    images_origin: Path to the directory with your images. This directory\n",
        "      must include subdirectories for each of your labeled classes. For example:\n",
        "      yoga_poses/\n",
        "      |__ downdog/\n",
        "          |______ 00000128.jpg\n",
        "          |______ 00000181.jpg\n",
        "          |______ ...\n",
        "      |__ goddess/\n",
        "          |______ 00000243.jpg\n",
        "          |______ 00000306.jpg\n",
        "          |______ ...\n",
        "      ...\n",
        "    images_dest: Path to a directory where you want the split dataset to be\n",
        "      saved. The results looks like this:\n",
        "      split_yoga_poses/\n",
        "      |__ train/\n",
        "          |__ downdog/\n",
        "              |______ 00000128.jpg\n",
        "              |______ ...\n",
        "      |__ test/\n",
        "          |__ downdog/\n",
        "              |______ 00000181.jpg\n",
        "              |______ ...\n",
        "    test_split: Fraction of data to reserve for test (float between 0 and 1).\n",
        "  \"\"\"\n",
        "  _, dirs, _ = next(os.walk(images_origin))\n",
        "\n",
        "  TRAIN_DIR = os.path.join(images_dest, 'train')\n",
        "  TEST_DIR = os.path.join(images_dest, 'test')\n",
        "  os.makedirs(TRAIN_DIR, exist_ok=True)\n",
        "  os.makedirs(TEST_DIR, exist_ok=True)\n",
        "\n",
        "  for dir in dirs:\n",
        "    # Get all filenames for this dir, filtered by filetype\n",
        "    filenames = os.listdir(os.path.join(images_origin, dir))\n",
        "    filenames = [os.path.join(images_origin, dir, f) for f in filenames if (\n",
        "        f.endswith('.png') or f.endswith('.jpg') or f.endswith('.jpeg') or f.endswith('.bmp'))]\n",
        "    # Shuffle the files, deterministically\n",
        "    filenames.sort()\n",
        "    #random.seed(42)\n",
        "    #random.shuffle(filenames)\n",
        "    # Divide them into train/test dirs\n",
        "    os.makedirs(os.path.join(TEST_DIR, dir), exist_ok=True)\n",
        "    os.makedirs(os.path.join(TRAIN_DIR, dir), exist_ok=True)\n",
        "    test_count = int(len(filenames) * test_split)\n",
        "    for i, file in enumerate(filenames):\n",
        "      if i < test_count:\n",
        "        destination = os.path.join(TEST_DIR, dir, os.path.split(file)[1])\n",
        "      else:\n",
        "        destination = os.path.join(TRAIN_DIR, dir, os.path.split(file)[1])\n",
        "      shutil.copyfile(file, destination)\n",
        "    print(f'Moved {test_count} of {len(filenames)} from class \"{dir}\" into test.')\n",
        "  print(f'Your split dataset is in \"{images_dest}\"')"
      ]
    },
    {
      "cell_type": "code",
      "execution_count": null,
      "metadata": {
        "colab": {
          "base_uri": "https://localhost:8080/"
        },
        "id": "FVKYP5pT00G_",
        "outputId": "d78df7f4-adf9-41bc-dda1-0ff958d76fa8"
      },
      "outputs": [
        {
          "output_type": "stream",
          "name": "stdout",
          "text": [
            "Moved 17 of 88 from class \"Incorrect\" into test.\n",
            "Moved 98 of 490 from class \"correct\" into test.\n",
            "Your split dataset is in \"splited_dataset\"\n"
          ]
        }
      ],
      "source": [
        "if use_custom_dataset:\n",
        "  # ATTENTION:\n",
        "  # You must edit these two lines to match your archive and images folder name:\n",
        "  # !tar -xf YOUR_DATASET_ARCHIVE_NAME.tar\n",
        "  #!unzip -q YOUR_DATASET_ARCHIVE_NAME.zip\n",
        "  dataset_in = '/content/dataset'\n",
        "\n",
        "  # You can leave the rest alone:\n",
        "  if not os.path.isdir(dataset_in):\n",
        "    raise Exception(\"dataset_in is not a valid directory\")\n",
        "  if dataset_is_split:\n",
        "    IMAGES_ROOT = dataset_in\n",
        "  else:\n",
        "    dataset_out = 'splited_dataset'\n",
        "    split_into_train_test(dataset_in, dataset_out, test_split=0.2)\n",
        "    IMAGES_ROOT = dataset_out"
      ]
    },
    {
      "cell_type": "code",
      "execution_count": null,
      "metadata": {
        "id": "F7rdl9-N015E",
        "colab": {
          "base_uri": "https://localhost:8080/"
        },
        "collapsed": true,
        "outputId": "967f1673-4c15-4fda-e92e-4889f56176b3"
      },
      "outputs": [
        {
          "output_type": "stream",
          "name": "stderr",
          "text": [
            "Preprocessing Incorrect\n",
            "100%|██████████| 65/65 [03:45<00:00,  3.46s/it]\n",
            "Preprocessing correct\n",
            "100%|██████████| 446/446 [26:16<00:00,  3.53s/it]"
          ]
        },
        {
          "output_type": "stream",
          "name": "stdout",
          "text": [
            "Skipped /content/splited_dataset/train/Incorrect/Xpull_up_2_frame_0000.jpg. No pose was confidentlly detected.\n",
            "Skipped /content/splited_dataset/train/Incorrect/Xpull_up_2_frame_0012.jpg. No pose was confidentlly detected.\n",
            "Skipped /content/splited_dataset/train/Incorrect/Xpull_up_2_frame_0120.jpg. No pose was confidentlly detected.\n",
            "Skipped /content/splited_dataset/train/Incorrect/Xpull_up_2_frame_0126.jpg. No pose was confidentlly detected.\n",
            "Skipped /content/splited_dataset/train/correct/pull up_1_frame_0090.jpg. No pose was confidentlly detected.\n",
            "Skipped /content/splited_dataset/train/correct/pull up_1_frame_0155.jpg. No pose was confidentlly detected.\n",
            "Skipped /content/splited_dataset/train/correct/pull up_1_frame_0160.jpg. No pose was confidentlly detected.\n",
            "Skipped /content/splited_dataset/train/correct/pull up_1_frame_0390.jpg. No pose was confidentlly detected.\n",
            "Skipped /content/splited_dataset/train/correct/pull up_1_frame_0495.jpg. No pose was confidentlly detected.\n",
            "Skipped /content/splited_dataset/train/correct/pull up_21_frame_0000.jpg. No pose was confidentlly detected.\n",
            "Skipped /content/splited_dataset/train/correct/pull up_21_frame_0006.jpg. No pose was confidentlly detected.\n",
            "Skipped /content/splited_dataset/train/correct/pull up_21_frame_0012.jpg. No pose was confidentlly detected.\n",
            "Skipped /content/splited_dataset/train/correct/pull up_21_frame_0018.jpg. No pose was confidentlly detected.\n",
            "Skipped /content/splited_dataset/train/correct/pull up_21_frame_0024.jpg. No pose was confidentlly detected.\n",
            "Skipped /content/splited_dataset/train/correct/pull up_21_frame_0072.jpg. No pose was confidentlly detected.\n",
            "Skipped /content/splited_dataset/train/correct/pull up_21_frame_0120.jpg. No pose was confidentlly detected.\n",
            "Skipped /content/splited_dataset/train/correct/pull up_21_frame_0174.jpg. No pose was confidentlly detected.\n",
            "Skipped /content/splited_dataset/train/correct/pull up_21_frame_0228.jpg. No pose was confidentlly detected.\n",
            "Skipped /content/splited_dataset/train/correct/pull up_21_frame_0234.jpg. No pose was confidentlly detected.\n",
            "Skipped /content/splited_dataset/train/correct/pull up_2_frame_0090.jpg. No pose was confidentlly detected.\n",
            "Skipped /content/splited_dataset/train/correct/pull up_2_frame_0175.jpg. No pose was confidentlly detected.\n",
            "Skipped /content/splited_dataset/train/correct/pull up_2_frame_0255.jpg. No pose was confidentlly detected.\n",
            "Skipped /content/splited_dataset/train/correct/pull up_2_frame_0260.jpg. No pose was confidentlly detected.\n",
            "Skipped /content/splited_dataset/train/correct/pull up_2_frame_0315.jpg. No pose was confidentlly detected.\n",
            "Skipped /content/splited_dataset/train/correct/pull up_2_frame_0320.jpg. No pose was confidentlly detected.\n",
            "Skipped /content/splited_dataset/train/correct/pull up_2_frame_0400.jpg. No pose was confidentlly detected.\n",
            "Skipped /content/splited_dataset/train/correct/pull up_2_frame_0410.jpg. No pose was confidentlly detected.\n",
            "Skipped /content/splited_dataset/train/correct/pull up_3_frame_0108.jpg. No pose was confidentlly detected.\n",
            "Skipped /content/splited_dataset/train/correct/pull up_3_frame_0120.jpg. No pose was confidentlly detected.\n",
            "Skipped /content/splited_dataset/train/correct/pull up_3_frame_0312.jpg. No pose was confidentlly detected.\n",
            "Skipped /content/splited_dataset/train/correct/pull up_3_frame_0360.jpg. No pose was confidentlly detected.\n",
            "Skipped /content/splited_dataset/train/correct/pull up_3_frame_0576.jpg. No pose was confidentlly detected.\n",
            "Skipped /content/splited_dataset/train/correct/pull up_3_frame_0660.jpg. No pose was confidentlly detected.\n",
            "Skipped /content/splited_dataset/train/correct/pull up_3_frame_0720.jpg. No pose was confidentlly detected.\n",
            "Skipped /content/splited_dataset/train/correct/pull up_3_frame_0732.jpg. No pose was confidentlly detected.\n",
            "Skipped /content/splited_dataset/train/correct/pull up_3_frame_0912.jpg. No pose was confidentlly detected.\n",
            "Skipped /content/splited_dataset/train/correct/pull up_3_frame_1056.jpg. No pose was confidentlly detected.\n",
            "Skipped /content/splited_dataset/train/correct/pull up_3_frame_1068.jpg. No pose was confidentlly detected.\n",
            "Skipped /content/splited_dataset/train/correct/pull up_3_frame_1080.jpg. No pose was confidentlly detected.\n",
            "Skipped /content/splited_dataset/train/correct/pull up_4_frame_0550.jpg. No pose was confidentlly detected.\n",
            "Skipped /content/splited_dataset/train/correct/pull up_4_frame_0555.jpg. No pose was confidentlly detected.\n",
            "Skipped /content/splited_dataset/train/correct/pull up_4_frame_0560.jpg. No pose was confidentlly detected.\n",
            "Skipped /content/splited_dataset/train/correct/pull up_4_frame_0565.jpg. No pose was confidentlly detected.\n",
            "Skipped /content/splited_dataset/train/correct/pull up_4_frame_0570.jpg. No pose was confidentlly detected.\n"
          ]
        },
        {
          "output_type": "stream",
          "name": "stderr",
          "text": [
            "\n"
          ]
        }
      ],
      "source": [
        "if not is_skip_step_1:\n",
        "  images_in_train_folder = os.path.join(IMAGES_ROOT, '/content/splited_dataset/train')\n",
        "  images_out_train_folder = 'poses_images_out_train'\n",
        "  csvs_out_train_path = 'train_data.csv'\n",
        "\n",
        "  preprocessor = MoveNetPreprocessor(\n",
        "      images_in_folder=images_in_train_folder,\n",
        "      images_out_folder=images_out_train_folder,\n",
        "      csvs_out_path=csvs_out_train_path,\n",
        "  )\n",
        "\n",
        "  preprocessor.process(per_pose_class_limit=None)"
      ]
    },
    {
      "cell_type": "code",
      "execution_count": null,
      "metadata": {
        "id": "kWlSxnN303jN",
        "colab": {
          "base_uri": "https://localhost:8080/"
        },
        "collapsed": true,
        "outputId": "7e727d04-b0db-4f39-dc95-f0a9b51ba6a7"
      },
      "outputs": [
        {
          "output_type": "stream",
          "name": "stderr",
          "text": [
            "Preprocessing Incorrect\n",
            "  0%|          | 0/23 [00:00<?, ?it/s]/usr/local/lib/python3.10/dist-packages/numpy/lib/function_base.py:520: RuntimeWarning: Mean of empty slice.\n",
            "  avg = a.mean(axis, **keepdims_kw)\n",
            "/usr/local/lib/python3.10/dist-packages/numpy/core/_methods.py:129: RuntimeWarning: invalid value encountered in scalar divide\n",
            "  ret = ret.dtype.type(ret / rcount)\n",
            "100%|██████████| 23/23 [01:20<00:00,  3.50s/it]\n",
            "Preprocessing correct\n",
            "100%|██████████| 44/44 [02:33<00:00,  3.49s/it]"
          ]
        },
        {
          "output_type": "stream",
          "name": "stdout",
          "text": [
            "Skipped /content/splited_dataset/test/Incorrect/Xpull_up_1_frame_0000.jpg. No pose was confidentlly detected.\n"
          ]
        },
        {
          "output_type": "stream",
          "name": "stderr",
          "text": [
            "\n"
          ]
        }
      ],
      "source": [
        "if not is_skip_step_1:\n",
        "  images_in_test_folder = os.path.join(IMAGES_ROOT, '/content/splited_dataset/test')\n",
        "  images_out_test_folder = 'poses_images_out_test'\n",
        "  csvs_out_test_path = 'test_data.csv'\n",
        "\n",
        "  preprocessor = MoveNetPreprocessor(\n",
        "      images_in_folder=images_in_test_folder,\n",
        "      images_out_folder=images_out_test_folder,\n",
        "      csvs_out_path=csvs_out_test_path,\n",
        "  )\n",
        "\n",
        "  preprocessor.process(per_pose_class_limit=None)"
      ]
    },
    {
      "cell_type": "code",
      "execution_count": null,
      "metadata": {
        "id": "_l9F5KiZ05vn"
      },
      "outputs": [],
      "source": [
        "def load_pose_landmarks(csv_path):\n",
        "  \"\"\"Loads a CSV created by MoveNetPreprocessor.\n",
        "\n",
        "  Returns:\n",
        "    X: Detected landmark coordinates and scores of shape (N, 17 * 3)\n",
        "    y: Ground truth labels of shape (N, label_count)\n",
        "    classes: The list of all class names found in the dataset\n",
        "    dataframe: The CSV loaded as a Pandas dataframe features (X) and ground\n",
        "      truth labels (y) to use later to train a pose classification model.\n",
        "  \"\"\"\n",
        "\n",
        "  # Load the CSV file\n",
        "  dataframe = pd.read_csv(csv_path)\n",
        "  df_to_process = dataframe.copy()\n",
        "\n",
        "  # Drop the file_name columns as you don't need it during training.\n",
        "  df_to_process.drop(columns=['file_name'], inplace=True)\n",
        "\n",
        "  # Extract the list of class names\n",
        "  classes = df_to_process.pop('class_name').unique()\n",
        "\n",
        "  # Extract the labels\n",
        "  y = df_to_process.pop('class_no')\n",
        "\n",
        "  # Convert the input features and labels into the correct format for training.\n",
        "  X = df_to_process.astype('float64')\n",
        "  y = keras.utils.to_categorical(y)\n",
        "\n",
        "  return X, y, classes, dataframe"
      ]
    },
    {
      "cell_type": "code",
      "execution_count": null,
      "metadata": {
        "id": "z8xm9sCh07yH"
      },
      "outputs": [],
      "source": [
        "# Load the train data\n",
        "X, y, class_names, _ = load_pose_landmarks(csvs_out_train_path)\n",
        "\n",
        "# Split training data (X, y) into (X_train, y_train) and (X_val, y_val)\n",
        "X_train, X_val, y_train, y_val = train_test_split(X, y,\n",
        "                                                  test_size=0.15)"
      ]
    },
    {
      "cell_type": "code",
      "execution_count": null,
      "metadata": {
        "id": "hoP5ef8s09mT"
      },
      "outputs": [],
      "source": [
        "# Load the test data\n",
        "X_test, y_test, _, df_test = load_pose_landmarks(csvs_out_test_path)"
      ]
    },
    {
      "cell_type": "code",
      "execution_count": null,
      "metadata": {
        "id": "x0GK-9E10_xU"
      },
      "outputs": [],
      "source": [
        "def get_center_point(landmarks, left_bodypart, right_bodypart):\n",
        "  \"\"\"Calculates the center point of the two given landmarks.\"\"\"\n",
        "\n",
        "  left = tf.gather(landmarks, left_bodypart.value, axis=1)\n",
        "  right = tf.gather(landmarks, right_bodypart.value, axis=1)\n",
        "  center = left * 0.5 + right * 0.5\n",
        "  return center\n",
        "\n",
        "\n",
        "def get_pose_size(landmarks, torso_size_multiplier=2.5):\n",
        "  \"\"\"Calculates pose size.\n",
        "\n",
        "  It is the maximum of two values:\n",
        "    * Torso size multiplied by `torso_size_multiplier`\n",
        "    * Maximum distance from pose center to any pose landmark\n",
        "  \"\"\"\n",
        "  # Hips center\n",
        "  hips_center = get_center_point(landmarks, BodyPart.LEFT_HIP,\n",
        "                                 BodyPart.RIGHT_HIP)\n",
        "\n",
        "  # Shoulders center\n",
        "  shoulders_center = get_center_point(landmarks, BodyPart.LEFT_SHOULDER,\n",
        "                                      BodyPart.RIGHT_SHOULDER)\n",
        "\n",
        "  # Torso size as the minimum body size\n",
        "  torso_size = tf.linalg.norm(shoulders_center - hips_center)\n",
        "\n",
        "  # Pose center\n",
        "  pose_center_new = get_center_point(landmarks, BodyPart.LEFT_HIP,\n",
        "                                     BodyPart.RIGHT_HIP)\n",
        "  pose_center_new = tf.expand_dims(pose_center_new, axis=1)\n",
        "  # Broadcast the pose center to the same size as the landmark vector to\n",
        "  # perform substraction\n",
        "  pose_center_new = tf.broadcast_to(pose_center_new,\n",
        "                                    [tf.size(landmarks) // (17*2), 17, 2])\n",
        "\n",
        "  # Dist to pose center\n",
        "  d = tf.gather(landmarks - pose_center_new, 0, axis=0,\n",
        "                name=\"dist_to_pose_center\")\n",
        "  # Max dist to pose center\n",
        "  max_dist = tf.reduce_max(tf.linalg.norm(d, axis=0))\n",
        "\n",
        "  # Normalize scale\n",
        "  pose_size = tf.maximum(torso_size * torso_size_multiplier, max_dist)\n",
        "\n",
        "  return pose_size\n",
        "\n",
        "\n",
        "def normalize_pose_landmarks(landmarks):\n",
        "  \"\"\"Normalizes the landmarks translation by moving the pose center to (0,0) and\n",
        "  scaling it to a constant pose size.\n",
        "  \"\"\"\n",
        "  # Move landmarks so that the pose center becomes (0,0)\n",
        "  pose_center = get_center_point(landmarks, BodyPart.LEFT_HIP,\n",
        "                                 BodyPart.RIGHT_HIP)\n",
        "  pose_center = tf.expand_dims(pose_center, axis=1)\n",
        "  # Broadcast the pose center to the same size as the landmark vector to perform\n",
        "  # substraction\n",
        "  pose_center = tf.broadcast_to(pose_center,\n",
        "                                [tf.size(landmarks) // (17*2), 17, 2])\n",
        "  landmarks = landmarks - pose_center\n",
        "\n",
        "  # Scale the landmarks to a constant pose size\n",
        "  pose_size = get_pose_size(landmarks)\n",
        "  landmarks /= pose_size\n",
        "\n",
        "  return landmarks\n",
        "\n",
        "\n",
        "def landmarks_to_embedding(landmarks_and_scores):\n",
        "  \"\"\"Converts the input landmarks into a pose embedding.\"\"\"\n",
        "  # Reshape the flat input into a matrix with shape=(17, 3)\n",
        "  reshaped_inputs = keras.layers.Reshape((17, 3))(landmarks_and_scores)\n",
        "\n",
        "  # Normalize landmarks 2D\n",
        "  landmarks = normalize_pose_landmarks(reshaped_inputs[:, :, :2])\n",
        "\n",
        "  # Flatten the normalized landmark coordinates into a vector\n",
        "  embedding = keras.layers.Flatten()(landmarks)\n",
        "\n",
        "  return embedding"
      ]
    },
    {
      "cell_type": "code",
      "execution_count": null,
      "metadata": {
        "id": "EW2wwQUr1BdZ",
        "colab": {
          "base_uri": "https://localhost:8080/"
        },
        "collapsed": true,
        "outputId": "e62a0c2c-5e29-46a8-ab6e-a80b12abce38"
      },
      "outputs": [
        {
          "output_type": "stream",
          "name": "stdout",
          "text": [
            "Model: \"model\"\n",
            "__________________________________________________________________________________________________\n",
            " Layer (type)                Output Shape                 Param #   Connected to                  \n",
            "==================================================================================================\n",
            " input_1 (InputLayer)        [(None, 51)]                 0         []                            \n",
            "                                                                                                  \n",
            " reshape (Reshape)           (None, 17, 3)                0         ['input_1[0][0]']             \n",
            "                                                                                                  \n",
            " tf.__operators__.getitem (  (None, 17, 2)                0         ['reshape[0][0]']             \n",
            " SlicingOpLambda)                                                                                 \n",
            "                                                                                                  \n",
            " tf.compat.v1.gather (TFOpL  (None, 2)                    0         ['tf.__operators__.getitem[0][\n",
            " ambda)                                                             0]']                          \n",
            "                                                                                                  \n",
            " tf.compat.v1.gather_1 (TFO  (None, 2)                    0         ['tf.__operators__.getitem[0][\n",
            " pLambda)                                                           0]']                          \n",
            "                                                                                                  \n",
            " tf.math.multiply (TFOpLamb  (None, 2)                    0         ['tf.compat.v1.gather[0][0]'] \n",
            " da)                                                                                              \n",
            "                                                                                                  \n",
            " tf.math.multiply_1 (TFOpLa  (None, 2)                    0         ['tf.compat.v1.gather_1[0][0]'\n",
            " mbda)                                                              ]                             \n",
            "                                                                                                  \n",
            " tf.__operators__.add (TFOp  (None, 2)                    0         ['tf.math.multiply[0][0]',    \n",
            " Lambda)                                                             'tf.math.multiply_1[0][0]']  \n",
            "                                                                                                  \n",
            " tf.compat.v1.size (TFOpLam  ()                           0         ['tf.__operators__.getitem[0][\n",
            " bda)                                                               0]']                          \n",
            "                                                                                                  \n",
            " tf.expand_dims (TFOpLambda  (None, 1, 2)                 0         ['tf.__operators__.add[0][0]']\n",
            " )                                                                                                \n",
            "                                                                                                  \n",
            " tf.compat.v1.floor_div (TF  ()                           0         ['tf.compat.v1.size[0][0]']   \n",
            " OpLambda)                                                                                        \n",
            "                                                                                                  \n",
            " tf.broadcast_to (TFOpLambd  (None, 17, 2)                0         ['tf.expand_dims[0][0]',      \n",
            " a)                                                                  'tf.compat.v1.floor_div[0][0]\n",
            "                                                                    ']                            \n",
            "                                                                                                  \n",
            " tf.math.subtract (TFOpLamb  (None, 17, 2)                0         ['tf.__operators__.getitem[0][\n",
            " da)                                                                0]',                          \n",
            "                                                                     'tf.broadcast_to[0][0]']     \n",
            "                                                                                                  \n",
            " tf.compat.v1.gather_6 (TFO  (None, 2)                    0         ['tf.math.subtract[0][0]']    \n",
            " pLambda)                                                                                         \n",
            "                                                                                                  \n",
            " tf.compat.v1.gather_7 (TFO  (None, 2)                    0         ['tf.math.subtract[0][0]']    \n",
            " pLambda)                                                                                         \n",
            "                                                                                                  \n",
            " tf.math.multiply_6 (TFOpLa  (None, 2)                    0         ['tf.compat.v1.gather_6[0][0]'\n",
            " mbda)                                                              ]                             \n",
            "                                                                                                  \n",
            " tf.math.multiply_7 (TFOpLa  (None, 2)                    0         ['tf.compat.v1.gather_7[0][0]'\n",
            " mbda)                                                              ]                             \n",
            "                                                                                                  \n",
            " tf.__operators__.add_3 (TF  (None, 2)                    0         ['tf.math.multiply_6[0][0]',  \n",
            " OpLambda)                                                           'tf.math.multiply_7[0][0]']  \n",
            "                                                                                                  \n",
            " tf.compat.v1.size_1 (TFOpL  ()                           0         ['tf.math.subtract[0][0]']    \n",
            " ambda)                                                                                           \n",
            "                                                                                                  \n",
            " tf.compat.v1.gather_4 (TFO  (None, 2)                    0         ['tf.math.subtract[0][0]']    \n",
            " pLambda)                                                                                         \n",
            "                                                                                                  \n",
            " tf.compat.v1.gather_5 (TFO  (None, 2)                    0         ['tf.math.subtract[0][0]']    \n",
            " pLambda)                                                                                         \n",
            "                                                                                                  \n",
            " tf.compat.v1.gather_2 (TFO  (None, 2)                    0         ['tf.math.subtract[0][0]']    \n",
            " pLambda)                                                                                         \n",
            "                                                                                                  \n",
            " tf.compat.v1.gather_3 (TFO  (None, 2)                    0         ['tf.math.subtract[0][0]']    \n",
            " pLambda)                                                                                         \n",
            "                                                                                                  \n",
            " tf.expand_dims_1 (TFOpLamb  (None, 1, 2)                 0         ['tf.__operators__.add_3[0][0]\n",
            " da)                                                                ']                            \n",
            "                                                                                                  \n",
            " tf.compat.v1.floor_div_1 (  ()                           0         ['tf.compat.v1.size_1[0][0]'] \n",
            " TFOpLambda)                                                                                      \n",
            "                                                                                                  \n",
            " tf.math.multiply_4 (TFOpLa  (None, 2)                    0         ['tf.compat.v1.gather_4[0][0]'\n",
            " mbda)                                                              ]                             \n",
            "                                                                                                  \n",
            " tf.math.multiply_5 (TFOpLa  (None, 2)                    0         ['tf.compat.v1.gather_5[0][0]'\n",
            " mbda)                                                              ]                             \n",
            "                                                                                                  \n",
            " tf.math.multiply_2 (TFOpLa  (None, 2)                    0         ['tf.compat.v1.gather_2[0][0]'\n",
            " mbda)                                                              ]                             \n",
            "                                                                                                  \n",
            " tf.math.multiply_3 (TFOpLa  (None, 2)                    0         ['tf.compat.v1.gather_3[0][0]'\n",
            " mbda)                                                              ]                             \n",
            "                                                                                                  \n",
            " tf.broadcast_to_1 (TFOpLam  (None, 17, 2)                0         ['tf.expand_dims_1[0][0]',    \n",
            " bda)                                                                'tf.compat.v1.floor_div_1[0][\n",
            "                                                                    0]']                          \n",
            "                                                                                                  \n",
            " tf.__operators__.add_2 (TF  (None, 2)                    0         ['tf.math.multiply_4[0][0]',  \n",
            " OpLambda)                                                           'tf.math.multiply_5[0][0]']  \n",
            "                                                                                                  \n",
            " tf.__operators__.add_1 (TF  (None, 2)                    0         ['tf.math.multiply_2[0][0]',  \n",
            " OpLambda)                                                           'tf.math.multiply_3[0][0]']  \n",
            "                                                                                                  \n",
            " tf.math.subtract_2 (TFOpLa  (None, 17, 2)                0         ['tf.math.subtract[0][0]',    \n",
            " mbda)                                                               'tf.broadcast_to_1[0][0]']   \n",
            "                                                                                                  \n",
            " tf.math.subtract_1 (TFOpLa  (None, 2)                    0         ['tf.__operators__.add_2[0][0]\n",
            " mbda)                                                              ',                            \n",
            "                                                                     'tf.__operators__.add_1[0][0]\n",
            "                                                                    ']                            \n",
            "                                                                                                  \n",
            " tf.compat.v1.gather_8 (TFO  (17, 2)                      0         ['tf.math.subtract_2[0][0]']  \n",
            " pLambda)                                                                                         \n",
            "                                                                                                  \n",
            " tf.compat.v1.norm (TFOpLam  ()                           0         ['tf.math.subtract_1[0][0]']  \n",
            " bda)                                                                                             \n",
            "                                                                                                  \n",
            " tf.compat.v1.norm_1 (TFOpL  (2,)                         0         ['tf.compat.v1.gather_8[0][0]'\n",
            " ambda)                                                             ]                             \n",
            "                                                                                                  \n",
            " tf.math.multiply_8 (TFOpLa  ()                           0         ['tf.compat.v1.norm[0][0]']   \n",
            " mbda)                                                                                            \n",
            "                                                                                                  \n",
            " tf.math.reduce_max (TFOpLa  ()                           0         ['tf.compat.v1.norm_1[0][0]'] \n",
            " mbda)                                                                                            \n",
            "                                                                                                  \n",
            " tf.math.maximum (TFOpLambd  ()                           0         ['tf.math.multiply_8[0][0]',  \n",
            " a)                                                                  'tf.math.reduce_max[0][0]']  \n",
            "                                                                                                  \n",
            " tf.math.truediv (TFOpLambd  (None, 17, 2)                0         ['tf.math.subtract[0][0]',    \n",
            " a)                                                                  'tf.math.maximum[0][0]']     \n",
            "                                                                                                  \n",
            " flatten (Flatten)           (None, 34)                   0         ['tf.math.truediv[0][0]']     \n",
            "                                                                                                  \n",
            " dense (Dense)               (None, 128)                  4480      ['flatten[0][0]']             \n",
            "                                                                                                  \n",
            " dropout (Dropout)           (None, 128)                  0         ['dense[0][0]']               \n",
            "                                                                                                  \n",
            " dense_1 (Dense)             (None, 64)                   8256      ['dropout[0][0]']             \n",
            "                                                                                                  \n",
            " dropout_1 (Dropout)         (None, 64)                   0         ['dense_1[0][0]']             \n",
            "                                                                                                  \n",
            " dense_2 (Dense)             (None, 2)                    130       ['dropout_1[0][0]']           \n",
            "                                                                                                  \n",
            "==================================================================================================\n",
            "Total params: 12866 (50.26 KB)\n",
            "Trainable params: 12866 (50.26 KB)\n",
            "Non-trainable params: 0 (0.00 Byte)\n",
            "__________________________________________________________________________________________________\n"
          ]
        }
      ],
      "source": [
        "# Define the model\n",
        "inputs = tf.keras.Input(shape=(51))\n",
        "embedding = landmarks_to_embedding(inputs)\n",
        "\n",
        "layer = keras.layers.Dense(128, activation=tf.nn.relu6)(embedding)\n",
        "layer = keras.layers.Dropout(0.5)(layer)\n",
        "layer = keras.layers.Dense(64, activation=tf.nn.relu6)(layer)\n",
        "layer = keras.layers.Dropout(0.5)(layer)\n",
        "outputs = keras.layers.Dense(len(class_names), activation=\"softmax\")(layer)\n",
        "\n",
        "model = keras.Model(inputs, outputs)\n",
        "model.summary()"
      ]
    },
    {
      "cell_type": "code",
      "execution_count": null,
      "metadata": {
        "id": "n6uUP6Jl1Dxh",
        "colab": {
          "base_uri": "https://localhost:8080/"
        },
        "outputId": "65b3d4c3-dc12-491f-8c12-d43d5c9a61e3"
      },
      "outputs": [
        {
          "output_type": "stream",
          "name": "stdout",
          "text": [
            "Epoch 1/200\n",
            "22/25 [=========================>....] - ETA: 0s - loss: 0.0380 - accuracy: 0.9972\n",
            "Epoch 1: val_accuracy improved from -inf to 1.00000, saving model to weights.best.hdf5\n",
            "25/25 [==============================] - 4s 46ms/step - loss: 0.0353 - accuracy: 0.9975 - val_loss: 0.0099 - val_accuracy: 1.0000\n",
            "Epoch 2/200\n",
            "24/25 [===========================>..] - ETA: 0s - loss: 0.0312 - accuracy: 0.9974"
          ]
        },
        {
          "output_type": "stream",
          "name": "stderr",
          "text": [
            "/usr/local/lib/python3.10/dist-packages/keras/src/engine/training.py:3103: UserWarning: You are saving your model as an HDF5 file via `model.save()`. This file format is considered legacy. We recommend using instead the native Keras format, e.g. `model.save('my_model.keras')`.\n",
            "  saving_api.save_model(\n"
          ]
        },
        {
          "output_type": "stream",
          "name": "stdout",
          "text": [
            "\n",
            "Epoch 2: val_accuracy did not improve from 1.00000\n",
            "25/25 [==============================] - 0s 8ms/step - loss: 0.0322 - accuracy: 0.9949 - val_loss: 0.0092 - val_accuracy: 1.0000\n",
            "Epoch 3/200\n",
            "24/25 [===========================>..] - ETA: 0s - loss: 0.0275 - accuracy: 1.0000\n",
            "Epoch 3: val_accuracy did not improve from 1.00000\n",
            "25/25 [==============================] - 0s 17ms/step - loss: 0.0268 - accuracy: 1.0000 - val_loss: 0.0062 - val_accuracy: 1.0000\n",
            "Epoch 4/200\n",
            "20/25 [=======================>......] - ETA: 0s - loss: 0.0191 - accuracy: 0.9969\n",
            "Epoch 4: val_accuracy did not improve from 1.00000\n",
            "25/25 [==============================] - 0s 13ms/step - loss: 0.0204 - accuracy: 0.9975 - val_loss: 0.0052 - val_accuracy: 1.0000\n",
            "Epoch 5/200\n",
            "23/25 [==========================>...] - ETA: 0s - loss: 0.0231 - accuracy: 0.9973\n",
            "Epoch 5: val_accuracy did not improve from 1.00000\n",
            "25/25 [==============================] - 0s 12ms/step - loss: 0.0222 - accuracy: 0.9975 - val_loss: 0.0048 - val_accuracy: 1.0000\n",
            "Epoch 6/200\n",
            "25/25 [==============================] - ETA: 0s - loss: 0.0138 - accuracy: 1.0000\n",
            "Epoch 6: val_accuracy did not improve from 1.00000\n",
            "25/25 [==============================] - 0s 15ms/step - loss: 0.0138 - accuracy: 1.0000 - val_loss: 0.0037 - val_accuracy: 1.0000\n",
            "Epoch 7/200\n",
            "23/25 [==========================>...] - ETA: 0s - loss: 0.0158 - accuracy: 1.0000\n",
            "Epoch 7: val_accuracy did not improve from 1.00000\n",
            "25/25 [==============================] - 0s 9ms/step - loss: 0.0155 - accuracy: 1.0000 - val_loss: 0.0029 - val_accuracy: 1.0000\n",
            "Epoch 8/200\n",
            "17/25 [===================>..........] - ETA: 0s - loss: 0.0103 - accuracy: 1.0000\n",
            "Epoch 8: val_accuracy did not improve from 1.00000\n",
            "25/25 [==============================] - 0s 9ms/step - loss: 0.0143 - accuracy: 0.9975 - val_loss: 0.0024 - val_accuracy: 1.0000\n",
            "Epoch 9/200\n",
            "17/25 [===================>..........] - ETA: 0s - loss: 0.0165 - accuracy: 0.9963\n",
            "Epoch 9: val_accuracy did not improve from 1.00000\n",
            "25/25 [==============================] - 0s 10ms/step - loss: 0.0137 - accuracy: 0.9975 - val_loss: 0.0022 - val_accuracy: 1.0000\n",
            "Epoch 10/200\n",
            "23/25 [==========================>...] - ETA: 0s - loss: 0.0118 - accuracy: 1.0000\n",
            "Epoch 10: val_accuracy did not improve from 1.00000\n",
            "25/25 [==============================] - 0s 14ms/step - loss: 0.0114 - accuracy: 1.0000 - val_loss: 0.0020 - val_accuracy: 1.0000\n",
            "Epoch 11/200\n",
            "22/25 [=========================>....] - ETA: 0s - loss: 0.0093 - accuracy: 1.0000\n",
            "Epoch 11: val_accuracy did not improve from 1.00000\n",
            "25/25 [==============================] - 0s 15ms/step - loss: 0.0087 - accuracy: 1.0000 - val_loss: 0.0016 - val_accuracy: 1.0000\n",
            "Epoch 12/200\n",
            "19/25 [=====================>........] - ETA: 0s - loss: 0.0088 - accuracy: 1.0000\n",
            "Epoch 12: val_accuracy did not improve from 1.00000\n",
            "25/25 [==============================] - 0s 14ms/step - loss: 0.0086 - accuracy: 1.0000 - val_loss: 0.0013 - val_accuracy: 1.0000\n",
            "Epoch 13/200\n",
            "22/25 [=========================>....] - ETA: 0s - loss: 0.0091 - accuracy: 0.9972\n",
            "Epoch 13: val_accuracy did not improve from 1.00000\n",
            "25/25 [==============================] - 0s 8ms/step - loss: 0.0084 - accuracy: 0.9975 - val_loss: 0.0013 - val_accuracy: 1.0000\n",
            "Epoch 14/200\n",
            "20/25 [=======================>......] - ETA: 0s - loss: 0.0087 - accuracy: 1.0000\n",
            "Epoch 14: val_accuracy did not improve from 1.00000\n",
            "25/25 [==============================] - 0s 16ms/step - loss: 0.0082 - accuracy: 1.0000 - val_loss: 0.0010 - val_accuracy: 1.0000\n",
            "Epoch 15/200\n",
            "23/25 [==========================>...] - ETA: 0s - loss: 0.0062 - accuracy: 1.0000\n",
            "Epoch 15: val_accuracy did not improve from 1.00000\n",
            "25/25 [==============================] - 0s 14ms/step - loss: 0.0059 - accuracy: 1.0000 - val_loss: 8.4430e-04 - val_accuracy: 1.0000\n",
            "Epoch 16/200\n",
            "20/25 [=======================>......] - ETA: 0s - loss: 0.0036 - accuracy: 1.0000\n",
            "Epoch 16: val_accuracy did not improve from 1.00000\n",
            "25/25 [==============================] - 0s 15ms/step - loss: 0.0033 - accuracy: 1.0000 - val_loss: 7.0303e-04 - val_accuracy: 1.0000\n",
            "Epoch 17/200\n",
            "23/25 [==========================>...] - ETA: 0s - loss: 0.0087 - accuracy: 0.9973\n",
            "Epoch 17: val_accuracy did not improve from 1.00000\n",
            "25/25 [==============================] - 0s 18ms/step - loss: 0.0082 - accuracy: 0.9975 - val_loss: 8.5731e-04 - val_accuracy: 1.0000\n",
            "Epoch 18/200\n",
            "24/25 [===========================>..] - ETA: 0s - loss: 0.0082 - accuracy: 0.9974\n",
            "Epoch 18: val_accuracy did not improve from 1.00000\n",
            "25/25 [==============================] - 0s 18ms/step - loss: 0.0081 - accuracy: 0.9975 - val_loss: 6.4491e-04 - val_accuracy: 1.0000\n",
            "Epoch 19/200\n",
            "19/25 [=====================>........] - ETA: 0s - loss: 0.0071 - accuracy: 1.0000\n",
            "Epoch 19: val_accuracy did not improve from 1.00000\n",
            "25/25 [==============================] - 0s 15ms/step - loss: 0.0078 - accuracy: 1.0000 - val_loss: 8.1907e-04 - val_accuracy: 1.0000\n",
            "Epoch 20/200\n",
            "22/25 [=========================>....] - ETA: 0s - loss: 0.0074 - accuracy: 0.9972\n",
            "Epoch 20: val_accuracy did not improve from 1.00000\n",
            "25/25 [==============================] - 1s 21ms/step - loss: 0.0068 - accuracy: 0.9975 - val_loss: 6.3823e-04 - val_accuracy: 1.0000\n",
            "Epoch 21/200\n",
            "23/25 [==========================>...] - ETA: 0s - loss: 0.0077 - accuracy: 0.9973\n",
            "Epoch 21: val_accuracy did not improve from 1.00000\n",
            "25/25 [==============================] - 1s 25ms/step - loss: 0.0072 - accuracy: 0.9975 - val_loss: 5.8602e-04 - val_accuracy: 1.0000\n"
          ]
        }
      ],
      "source": [
        "model.compile(\n",
        "    optimizer='adam',\n",
        "    loss='binary_crossentropy',\n",
        "    metrics=['accuracy']\n",
        ")\n",
        "\n",
        "# Add a checkpoint callback to store the checkpoint that has the highest\n",
        "# validation accuracy.\n",
        "checkpoint_path = \"weights.best.hdf5\"\n",
        "checkpoint = keras.callbacks.ModelCheckpoint(checkpoint_path,\n",
        "                             monitor='val_accuracy',\n",
        "                             verbose=1,\n",
        "                             save_best_only=True,\n",
        "                             mode='max')\n",
        "earlystopping = keras.callbacks.EarlyStopping(monitor='val_accuracy',\n",
        "                                              patience=20)\n",
        "\n",
        "# Start training\n",
        "history = model.fit(X_train, y_train,\n",
        "                    epochs=200,\n",
        "                    batch_size=16,\n",
        "                    validation_data=(X_val, y_val),\n",
        "                    callbacks=[checkpoint, earlystopping])"
      ]
    },
    {
      "cell_type": "code",
      "source": [
        "test_loss, test_accuracy = model.evaluate(X_test, y_test)\n",
        "\n",
        "# Print the test accuracy\n",
        "print(\"Test Accuracy:\", test_accuracy)"
      ],
      "metadata": {
        "colab": {
          "base_uri": "https://localhost:8080/"
        },
        "id": "WPSe-DVDknhJ",
        "outputId": "cbcba676-8a7c-45b9-f402-d14cb5fd927d"
      },
      "execution_count": null,
      "outputs": [
        {
          "output_type": "stream",
          "name": "stdout",
          "text": [
            "3/3 [==============================] - 0s 10ms/step - loss: 0.0934 - accuracy: 1.0000\n",
            "Test Accuracy: 1.0\n"
          ]
        }
      ]
    },
    {
      "cell_type": "code",
      "execution_count": null,
      "metadata": {
        "colab": {
          "base_uri": "https://localhost:8080/"
        },
        "id": "--HbSpUPsX1b",
        "outputId": "f412278f-9265-4aa9-a1ee-4823ff256963"
      },
      "outputs": [
        {
          "output_type": "stream",
          "name": "stdout",
          "text": [
            "Model size: 26KB\n"
          ]
        }
      ],
      "source": [
        "converter = tf.lite.TFLiteConverter.from_keras_model(model)\n",
        "converter.optimizations = [tf.lite.Optimize.DEFAULT]\n",
        "tflite_model = converter.convert()\n",
        "\n",
        "print('Model size: %dKB' % (len(tflite_model) / 1024))\n",
        "\n",
        "with open('pose_classifierFinal.tflite', 'wb') as f:\n",
        "  f.write(tflite_model)"
      ]
    },
    {
      "cell_type": "code",
      "execution_count": null,
      "metadata": {
        "id": "VexHTxWrtEKh"
      },
      "outputs": [],
      "source": [
        "# Convert items in class_names to strings\n",
        "class_names_str = [str(item) for item in class_names]\n",
        "\n",
        "# Write the string representation of class_names to the file\n",
        "with open('pose_labels.txt', 'w') as f:\n",
        "    f.write('\\n'.join(class_names_str))\n"
      ]
    },
    {
      "cell_type": "code",
      "execution_count": null,
      "metadata": {
        "colab": {
          "base_uri": "https://localhost:8080/"
        },
        "id": "899lPfaZt3OS",
        "outputId": "6f663ee4-e5d0-4505-d5c6-426beaca2171"
      },
      "outputs": [
        {
          "output_type": "stream",
          "name": "stdout",
          "text": [
            "  adding: pose_labels.txt (deflated 24%)\n",
            "  adding: pose_classifier.tflite (deflated 36%)\n"
          ]
        }
      ],
      "source": [
        "!zip pose_classifier.zip pose_labels.txt pose_classifier.tflite\n"
      ]
    },
    {
      "cell_type": "code",
      "execution_count": null,
      "metadata": {
        "colab": {
          "base_uri": "https://localhost:8080/",
          "height": 17
        },
        "id": "UN74Con_t6NY",
        "outputId": "95b8f217-05e4-4a70-8b45-deec5f16742d"
      },
      "outputs": [
        {
          "output_type": "display_data",
          "data": {
            "text/plain": [
              "<IPython.core.display.Javascript object>"
            ],
            "application/javascript": [
              "\n",
              "    async function download(id, filename, size) {\n",
              "      if (!google.colab.kernel.accessAllowed) {\n",
              "        return;\n",
              "      }\n",
              "      const div = document.createElement('div');\n",
              "      const label = document.createElement('label');\n",
              "      label.textContent = `Downloading \"${filename}\": `;\n",
              "      div.appendChild(label);\n",
              "      const progress = document.createElement('progress');\n",
              "      progress.max = size;\n",
              "      div.appendChild(progress);\n",
              "      document.body.appendChild(div);\n",
              "\n",
              "      const buffers = [];\n",
              "      let downloaded = 0;\n",
              "\n",
              "      const channel = await google.colab.kernel.comms.open(id);\n",
              "      // Send a message to notify the kernel that we're ready.\n",
              "      channel.send({})\n",
              "\n",
              "      for await (const message of channel.messages) {\n",
              "        // Send a message to notify the kernel that we're ready.\n",
              "        channel.send({})\n",
              "        if (message.buffers) {\n",
              "          for (const buffer of message.buffers) {\n",
              "            buffers.push(buffer);\n",
              "            downloaded += buffer.byteLength;\n",
              "            progress.value = downloaded;\n",
              "          }\n",
              "        }\n",
              "      }\n",
              "      const blob = new Blob(buffers, {type: 'application/binary'});\n",
              "      const a = document.createElement('a');\n",
              "      a.href = window.URL.createObjectURL(blob);\n",
              "      a.download = filename;\n",
              "      div.appendChild(a);\n",
              "      a.click();\n",
              "      div.remove();\n",
              "    }\n",
              "  "
            ]
          },
          "metadata": {}
        },
        {
          "output_type": "display_data",
          "data": {
            "text/plain": [
              "<IPython.core.display.Javascript object>"
            ],
            "application/javascript": [
              "download(\"download_245ad03e-9487-43da-901f-f6d416d20f90\", \"pose_classifier.zip\", 17546)"
            ]
          },
          "metadata": {}
        }
      ],
      "source": [
        "try:\n",
        "  from google.colab import files\n",
        "  files.download('pose_classifier.zip')\n",
        "except:\n",
        "  pass"
      ]
    },
    {
      "cell_type": "code",
      "source": [
        "images_in_train_folder = '/content/Run_frames'\n",
        "images_out_train_folder = 'poses_images_out_run'\n",
        "csvs_out_train_path = 'run_data.csv'\n",
        "\n",
        "preprocessor = MoveNetPreprocessor(\n",
        "      images_in_folder=images_in_train_folder,\n",
        "      images_out_folder=images_out_train_folder,\n",
        "      csvs_out_path=csvs_out_train_path,\n",
        "  )\n",
        "\n",
        "preprocessor.process(per_pose_class_limit=None)"
      ],
      "metadata": {
        "colab": {
          "base_uri": "https://localhost:8080/"
        },
        "id": "GPfZrnV9R1KY",
        "outputId": "96618c06-4e86-44a6-9bd4-1a467ff18897"
      },
      "execution_count": null,
      "outputs": [
        {
          "output_type": "stream",
          "name": "stderr",
          "text": [
            "Preprocessing Frames\n",
            "100%|██████████| 30/30 [01:49<00:00,  3.65s/it]"
          ]
        },
        {
          "output_type": "stream",
          "name": "stdout",
          "text": [
            "\n"
          ]
        },
        {
          "output_type": "stream",
          "name": "stderr",
          "text": [
            "\n"
          ]
        }
      ]
    },
    {
      "cell_type": "code",
      "source": [
        "X_run, y_run, _, df_run = load_pose_landmarks(\"/content/run_data.csv\")\n",
        "inputs = tf.keras.Input(shape=(51))\n",
        "embeddingg = landmarks_to_embedding(inputs)\n"
      ],
      "metadata": {
        "id": "mTluoZPeWgHU"
      },
      "execution_count": null,
      "outputs": []
    },
    {
      "cell_type": "code",
      "source": [
        "print(type(X_run))\n",
        "np_Xarrayy = X_run.values\n",
        "print(X_run)\n",
        "print(np_Xarrayy)"
      ],
      "metadata": {
        "id": "XA8laHyUhgLp"
      },
      "execution_count": null,
      "outputs": []
    },
    {
      "cell_type": "code",
      "source": [],
      "metadata": {
        "colab": {
          "base_uri": "https://localhost:8080/",
          "height": 332
        },
        "id": "MCHe4kh9ibSr",
        "outputId": "d7b10842-257d-4f0f-eb25-c3fa8120e7c3"
      },
      "execution_count": null,
      "outputs": [
        {
          "output_type": "error",
          "ename": "AttributeError",
          "evalue": "'DataFrame' object has no attribute 'reshape'",
          "traceback": [
            "\u001b[0;31m---------------------------------------------------------------------------\u001b[0m",
            "\u001b[0;31mAttributeError\u001b[0m                            Traceback (most recent call last)",
            "\u001b[0;32m<ipython-input-108-7a18b803350e>\u001b[0m in \u001b[0;36m<cell line: 16>\u001b[0;34m()\u001b[0m\n\u001b[1;32m     14\u001b[0m \u001b[0minput_shape\u001b[0m \u001b[0;34m=\u001b[0m \u001b[0minput_details\u001b[0m\u001b[0;34m[\u001b[0m\u001b[0;36m0\u001b[0m\u001b[0;34m]\u001b[0m\u001b[0;34m[\u001b[0m\u001b[0;34m'shape'\u001b[0m\u001b[0;34m]\u001b[0m\u001b[0;34m\u001b[0m\u001b[0;34m\u001b[0m\u001b[0m\n\u001b[1;32m     15\u001b[0m \u001b[0mX_run\u001b[0m \u001b[0;34m=\u001b[0m \u001b[0mX_run\u001b[0m\u001b[0;34m.\u001b[0m\u001b[0mastype\u001b[0m\u001b[0;34m(\u001b[0m\u001b[0mnp\u001b[0m\u001b[0;34m.\u001b[0m\u001b[0mfloat32\u001b[0m\u001b[0;34m)\u001b[0m\u001b[0;34m\u001b[0m\u001b[0;34m\u001b[0m\u001b[0m\n\u001b[0;32m---> 16\u001b[0;31m \u001b[0mX_run\u001b[0m \u001b[0;34m=\u001b[0m \u001b[0mX_run\u001b[0m\u001b[0;34m.\u001b[0m\u001b[0mreshape\u001b[0m\u001b[0;34m(\u001b[0m\u001b[0;34m(\u001b[0m\u001b[0;36m1\u001b[0m\u001b[0;34m,\u001b[0m \u001b[0;36m51\u001b[0m\u001b[0;34m)\u001b[0m\u001b[0;34m)\u001b[0m\u001b[0;34m\u001b[0m\u001b[0;34m\u001b[0m\u001b[0m\n\u001b[0m\u001b[1;32m     17\u001b[0m \u001b[0minterpreter\u001b[0m\u001b[0;34m.\u001b[0m\u001b[0mset_tensor\u001b[0m\u001b[0;34m(\u001b[0m\u001b[0minput_details\u001b[0m\u001b[0;34m[\u001b[0m\u001b[0;36m0\u001b[0m\u001b[0;34m]\u001b[0m\u001b[0;34m[\u001b[0m\u001b[0;34m'index'\u001b[0m\u001b[0;34m]\u001b[0m\u001b[0;34m,\u001b[0m \u001b[0mX_run\u001b[0m\u001b[0;34m)\u001b[0m\u001b[0;34m\u001b[0m\u001b[0;34m\u001b[0m\u001b[0m\n\u001b[1;32m     18\u001b[0m \u001b[0;34m\u001b[0m\u001b[0m\n",
            "\u001b[0;32m/usr/local/lib/python3.10/dist-packages/pandas/core/generic.py\u001b[0m in \u001b[0;36m__getattr__\u001b[0;34m(self, name)\u001b[0m\n\u001b[1;32m   5987\u001b[0m         ):\n\u001b[1;32m   5988\u001b[0m             \u001b[0;32mreturn\u001b[0m \u001b[0mself\u001b[0m\u001b[0;34m[\u001b[0m\u001b[0mname\u001b[0m\u001b[0;34m]\u001b[0m\u001b[0;34m\u001b[0m\u001b[0;34m\u001b[0m\u001b[0m\n\u001b[0;32m-> 5989\u001b[0;31m         \u001b[0;32mreturn\u001b[0m \u001b[0mobject\u001b[0m\u001b[0;34m.\u001b[0m\u001b[0m__getattribute__\u001b[0m\u001b[0;34m(\u001b[0m\u001b[0mself\u001b[0m\u001b[0;34m,\u001b[0m \u001b[0mname\u001b[0m\u001b[0;34m)\u001b[0m\u001b[0;34m\u001b[0m\u001b[0;34m\u001b[0m\u001b[0m\n\u001b[0m\u001b[1;32m   5990\u001b[0m \u001b[0;34m\u001b[0m\u001b[0m\n\u001b[1;32m   5991\u001b[0m     \u001b[0;32mdef\u001b[0m \u001b[0m__setattr__\u001b[0m\u001b[0;34m(\u001b[0m\u001b[0mself\u001b[0m\u001b[0;34m,\u001b[0m \u001b[0mname\u001b[0m\u001b[0;34m:\u001b[0m \u001b[0mstr\u001b[0m\u001b[0;34m,\u001b[0m \u001b[0mvalue\u001b[0m\u001b[0;34m)\u001b[0m \u001b[0;34m->\u001b[0m \u001b[0;32mNone\u001b[0m\u001b[0;34m:\u001b[0m\u001b[0;34m\u001b[0m\u001b[0;34m\u001b[0m\u001b[0m\n",
            "\u001b[0;31mAttributeError\u001b[0m: 'DataFrame' object has no attribute 'reshape'"
          ]
        }
      ]
    },
    {
      "cell_type": "code",
      "source": [
        "print((input_shape))"
      ],
      "metadata": {
        "colab": {
          "base_uri": "https://localhost:8080/"
        },
        "id": "OG418odYyIau",
        "outputId": "863358d4-2d3a-440f-caa0-63f3cfde6eca"
      },
      "execution_count": null,
      "outputs": [
        {
          "output_type": "stream",
          "name": "stdout",
          "text": [
            "[ 1 51]\n"
          ]
        }
      ]
    }
  ],
  "metadata": {
    "colab": {
      "provenance": []
    },
    "kernelspec": {
      "display_name": "Python 3",
      "name": "python3"
    },
    "language_info": {
      "name": "python"
    }
  },
  "nbformat": 4,
  "nbformat_minor": 0
}